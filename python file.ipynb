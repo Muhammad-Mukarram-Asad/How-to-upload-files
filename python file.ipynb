{
 "cells": [
  {
   "cell_type": "code",
   "execution_count": 1,
   "metadata": {},
   "outputs": [
    {
     "name": "stdout",
     "output_type": "stream",
     "text": [
      "My country name is Pakistan.\n",
      " Pakistan is 73 years old .\n"
     ]
    }
   ],
   "source": [
    "print(\"My country name is Pakistan.\")\n",
    "print(\" Pakistan is 73 years old .\")\n"
   ]
  },
  {
   "cell_type": "code",
   "execution_count": 7,
   "metadata": {},
   "outputs": [
    {
     "name": "stdout",
     "output_type": "stream",
     "text": [
      " The First name which user entered is = Mukarram.\n",
      " The Last name which user entered is = Asad.\n",
      " The Full name which user enterd is given below \n",
      " :\n",
      "MukarramAsad\t"
     ]
    }
   ],
   "source": [
    "def name(a,b):\n",
    "    print(f\" The First name which user entered is = {a}.\")\n",
    "    print(f\" The Last name which user entered is = {b}.\")\n",
    "    print(\" The Full name which user enterd is given below \\n :\")\n",
    "    c = a + b\n",
    "    p   \n",
    "\n",
    "name(\"Mukarram\",\"Asad\")\n"
   ]
  },
  {
   "cell_type": "code",
   "execution_count": 11,
   "metadata": {},
   "outputs": [
    {
     "name": "stdout",
     "output_type": "stream",
     "text": [
      "AsadSaadMaazAyazWaqas\n",
      "15,8,2001\n"
     ]
    }
   ],
   "source": [
    "a = 'Asad'\n",
    "b = 'Saad'\n",
    "c = 'Maaz'\n",
    "d = 'Ayaz'\n",
    "e = 'Waqas'\n",
    "f = a+b+c+d+e\n",
    "h = 15\n",
    "g = 8\n",
    "i = 2001\n",
    "print(f,sep = ',')\n",
    "print(h,g,i,sep = ',')"
   ]
  },
  {
   "cell_type": "code",
   "execution_count": null,
   "metadata": {},
   "outputs": [],
   "source": []
  },
  {
   "cell_type": "code",
   "execution_count": null,
   "metadata": {},
   "outputs": [],
   "source": []
  },
  {
   "cell_type": "code",
   "execution_count": null,
   "metadata": {},
   "outputs": [],
   "source": []
  },
  {
   "cell_type": "code",
   "execution_count": null,
   "metadata": {},
   "outputs": [],
   "source": []
  },
  {
   "cell_type": "code",
   "execution_count": null,
   "metadata": {},
   "outputs": [],
   "source": []
  },
  {
   "cell_type": "code",
   "execution_count": null,
   "metadata": {},
   "outputs": [],
   "source": []
  },
  {
   "cell_type": "code",
   "execution_count": null,
   "metadata": {},
   "outputs": [],
   "source": []
  },
  {
   "cell_type": "code",
   "execution_count": null,
   "metadata": {},
   "outputs": [],
   "source": []
  },
  {
   "cell_type": "code",
   "execution_count": null,
   "metadata": {},
   "outputs": [],
   "source": []
  },
  {
   "cell_type": "code",
   "execution_count": null,
   "metadata": {},
   "outputs": [],
   "source": []
  }
 ],
 "metadata": {
  "kernelspec": {
   "display_name": "Python 3",
   "language": "python",
   "name": "python3"
  },
  "language_info": {
   "codemirror_mode": {
    "name": "ipython",
    "version": 3
   },
   "file_extension": ".py",
   "mimetype": "text/x-python",
   "name": "python",
   "nbconvert_exporter": "python",
   "pygments_lexer": "ipython3",
   "version": "3.9.0"
  }
 },
 "nbformat": 4,
 "nbformat_minor": 4
}
